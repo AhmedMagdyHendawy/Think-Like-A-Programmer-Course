{
 "cells": [
  {
   "cell_type": "code",
   "execution_count": 11,
   "metadata": {},
   "outputs": [
    {
     "name": "stdout",
     "output_type": "stream",
     "text": [
      "Enter your number5\n",
      "5\n",
      "this was a positive number\n",
      "5\n",
      "this is an odd number\n"
     ]
    }
   ],
   "source": [
    "# Taking number from the user.\n",
    "number=int(input(\"Enter your number\"))\n",
    "\n",
    "# Python Built-in Function\n",
    "print(abs(number))\n",
    "\n",
    "# Our Implementation for the modulus function. With checking for even or odd.\n",
    "if number > 0 :\n",
    "    print(\"this was a positive number\")\n",
    "    print (number)\n",
    "    if number%2==1 :\n",
    "        print(\"this is an odd number\") \n",
    "    else:\n",
    "        print(\"this is an even number\")\n",
    "elif number<0:\n",
    "    print(\"this was a negative number\")\n",
    "    print(number*-1)\n",
    "else:\n",
    "    print(\"this is a zero\")\n",
    "    print(number)"
   ]
  },
  {
   "cell_type": "code",
   "execution_count": 30,
   "metadata": {},
   "outputs": [
    {
     "name": "stdout",
     "output_type": "stream",
     "text": [
      "k\n",
      "h\n",
      "l\n",
      "u\n",
      "d\n",
      "0\n"
     ]
    }
   ],
   "source": [
    "# Removing letter 'o' from word kholoud by using continue\n",
    "word=\"kholoud\"\n",
    "i=0\n",
    "for c in word:\n",
    "    if (c == \"o\"):\n",
    "        continue\n",
    "    print(c)"
   ]
  },
  {
   "cell_type": "code",
   "execution_count": 1,
   "metadata": {},
   "outputs": [
    {
     "name": "stdout",
     "output_type": "stream",
     "text": [
      "Enter Your NameAhmed Magdy\n",
      "ahmed magdy\n"
     ]
    }
   ],
   "source": [
    "# Coverting capital letters to small\n",
    "s = input(\"Enter Your Name\")\n",
    "s_new = \"\"\n",
    "\n",
    "for c in s:\n",
    "    if c == ' ':\n",
    "        s_new += c\n",
    "        continue\n",
    "    if (ord(c) < 97):\n",
    "        c = chr(ord(c) + 32)\n",
    "    s_new += c\n",
    "    \n",
    "print(s_new)"
   ]
  },
  {
   "cell_type": "code",
   "execution_count": 34,
   "metadata": {},
   "outputs": [
    {
     "name": "stdout",
     "output_type": "stream",
     "text": [
      "talk!\n",
      "kholoud\n",
      " Your msg after encryption: ÚÔâÜâîÌ\n"
     ]
    }
   ],
   "source": [
    "# Encription of a word\n",
    "def encrypt(s):\n",
    "    \n",
    "    s_encrypted = \"\"\n",
    "\n",
    "    for c in s:\n",
    "        asc = ord(c)\n",
    "        asc = asc * 2 + 4\n",
    "        c_enc = chr(asc)\n",
    "        s_encrypted += c_enc\n",
    "\n",
    "    return s_encrypted\n",
    "\n",
    "\n",
    "\n",
    "\n",
    "msg = input(\"talk!\\n\")\n",
    "\n",
    "msg_enc = encrypt(msg)\n",
    "\n",
    "print(\" Your msg after encryption: \" + msg_enc)"
   ]
  },
  {
   "cell_type": "code",
   "execution_count": 35,
   "metadata": {},
   "outputs": [
    {
     "name": "stdout",
     "output_type": "stream",
     "text": [
      "what's your name?\n",
      "ahmed\n",
      "the user name is: ahmed and he's a good man!\n"
     ]
    }
   ],
   "source": [
    "# Introducing Yourself  \n",
    "name = input(\"what's your name?\\n\")\n",
    "print(\"the user name is: %s and he's a good man!\"%name)"
   ]
  },
  {
   "cell_type": "code",
   "execution_count": 36,
   "metadata": {},
   "outputs": [
    {
     "name": "stdout",
     "output_type": "stream",
     "text": [
      "enter your age\n",
      "2\n"
     ]
    }
   ],
   "source": [
    "# Tell your age\n",
    "age = int(input(\"enter your age\\n\"))"
   ]
  },
  {
   "cell_type": "code",
   "execution_count": 37,
   "metadata": {},
   "outputs": [
    {
     "data": {
      "text/plain": [
       "9"
      ]
     },
     "execution_count": 37,
     "metadata": {},
     "output_type": "execute_result"
    }
   ],
   "source": [
    "age + 7"
   ]
  },
  {
   "cell_type": "code",
   "execution_count": 38,
   "metadata": {},
   "outputs": [
    {
     "data": {
      "text/plain": [
       "97"
      ]
     },
     "execution_count": 38,
     "metadata": {},
     "output_type": "execute_result"
    }
   ],
   "source": [
    "ord('a')"
   ]
  },
  {
   "cell_type": "code",
   "execution_count": 39,
   "metadata": {},
   "outputs": [
    {
     "data": {
      "text/plain": [
       "'a'"
      ]
     },
     "execution_count": 39,
     "metadata": {},
     "output_type": "execute_result"
    }
   ],
   "source": [
    "chr(97)"
   ]
  },
  {
   "cell_type": "code",
   "execution_count": 40,
   "metadata": {},
   "outputs": [
    {
     "name": "stdout",
     "output_type": "stream",
     "text": [
      "positive\n"
     ]
    }
   ],
   "source": [
    "x = 7\n",
    "\n",
    "if x > 0:\n",
    "    print(\"positive\")"
   ]
  },
  {
   "cell_type": "code",
   "execution_count": 41,
   "metadata": {},
   "outputs": [
    {
     "name": "stdout",
     "output_type": "stream",
     "text": [
      "\n"
     ]
    }
   ],
   "source": [
    "print(\"\")"
   ]
  },
  {
   "cell_type": "code",
   "execution_count": null,
   "metadata": {
    "collapsed": true
   },
   "outputs": [],
   "source": []
  }
 ],
 "metadata": {
  "kernelspec": {
   "display_name": "Python 3",
   "language": "python",
   "name": "python3"
  },
  "language_info": {
   "codemirror_mode": {
    "name": "ipython",
    "version": 3
   },
   "file_extension": ".py",
   "mimetype": "text/x-python",
   "name": "python",
   "nbconvert_exporter": "python",
   "pygments_lexer": "ipython3",
   "version": "3.6.3"
  }
 },
 "nbformat": 4,
 "nbformat_minor": 2
}
